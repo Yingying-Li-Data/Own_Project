{
 "cells": [
  {
   "cell_type": "code",
   "execution_count": null,
   "id": "ef1080fb",
   "metadata": {},
   "outputs": [],
   "source": [
    "import pandas as pd\n",
    "import os"
   ]
  },
  {
   "cell_type": "code",
   "execution_count": null,
   "id": "7ad02464",
   "metadata": {},
   "outputs": [],
   "source": [
    "athletes_pd = pd.read_csv('data/athletes.csv')"
   ]
  },
  {
   "cell_type": "code",
   "execution_count": null,
   "id": "de173afb",
   "metadata": {},
   "outputs": [],
   "source": [
    "athletes_pd.head()"
   ]
  },
  {
   "cell_type": "code",
   "execution_count": null,
   "id": "1d5ef3ce",
   "metadata": {},
   "outputs": [],
   "source": [
    "athletes_pd[\"name_length\"] = athletes_pd[\"name\"].str.len()\n",
    "athletes_pd.head()"
   ]
  },
  {
   "cell_type": "code",
   "execution_count": null,
   "id": "c1c54c59",
   "metadata": {},
   "outputs": [],
   "source": [
    "athletes_pd = athletes_pd.drop(columns=['short_name', 'birth_date', 'birth_place', 'birth_country', 'discipline_code', 'residence_place', 'residence_country', 'height_m/ft'])\n",
    "athletes_pd.head()"
   ]
  },
  {
   "cell_type": "code",
   "execution_count": null,
   "id": "2dbf45da",
   "metadata": {},
   "outputs": [],
   "source": [
    "athletes_pd.to_csv(\"/cleaned_athletes.csv\")"
   ]
  },
  {
   "cell_type": "code",
   "execution_count": null,
   "id": "ecc9ad1a",
   "metadata": {},
   "outputs": [],
   "source": [
    "athletes_pd.to_json(\"/cleaned_athletes.json\")"
   ]
  }
 ],
 "metadata": {
  "kernelspec": {
   "display_name": "Python 3",
   "language": "python",
   "name": "python3"
  },
  "language_info": {
   "codemirror_mode": {
    "name": "ipython",
    "version": 3
   },
   "file_extension": ".py",
   "mimetype": "text/x-python",
   "name": "python",
   "nbconvert_exporter": "python",
   "pygments_lexer": "ipython3",
   "version": "3.8.8"
  }
 },
 "nbformat": 4,
 "nbformat_minor": 5
}
